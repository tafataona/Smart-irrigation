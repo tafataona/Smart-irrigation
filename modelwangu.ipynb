{
 "cells": [
  {
   "cell_type": "code",
   "execution_count": null,
   "metadata": {},
   "outputs": [
    {
     "name": "stdout",
     "output_type": "stream",
     "text": [
      "WARNING:tensorflow:From C:\\Users\\user\\AppData\\Roaming\\Python\\Python311\\site-packages\\keras\\src\\losses.py:2976: The name tf.losses.sparse_softmax_cross_entropy is deprecated. Please use tf.compat.v1.losses.sparse_softmax_cross_entropy instead.\n",
      "\n",
      "      Soil Moisture Resistance (Ohm)  Ambient Temperature (deg. C)  \\\n",
      "date                                                                 \n",
      "NaT                              638                          30.6   \n",
      "NaT                              522                          30.6   \n",
      "NaT                              741                          30.6   \n",
      "NaT                              798                          30.6   \n",
      "NaT                              690                          30.6   \n",
      "\n",
      "      Atmospheric Humidity (%)  DC Water pump Status  \n",
      "date                                                  \n",
      "NaT                         60                     1  \n",
      "NaT                         37                     1  \n",
      "NaT                         40                     1  \n",
      "NaT                         40                     1  \n",
      "NaT                         67                     1  \n",
      "Index(['Soil Moisture Resistance (Ohm)', 'Ambient Temperature (deg. C)',\n",
      "       'Atmospheric Humidity (%)', 'DC Water pump Status'],\n",
      "      dtype='object')\n"
     ]
    }
   ],
   "source": [
    "import pandas as pd\n",
    "import numpy as np\n",
    "from sklearn.model_selection import train_test_split\n",
    "import tensorflow as tf\n",
    "from tensorflow.keras.models import Sequential\n",
    "from tensorflow.keras.layers import Dense\n",
    "from micromlgen import port\n",
    "\n",
    "# Load the dataset from a file path\n",
    "file_path = \"C:\\\\Users\\\\user\\\\Documents\\\\Data set\\\\Smart_irrigation_project_dataset.csv\"  # Update with your actual file path\n",
    "data = pd.read_csv(file_path)\n",
    "\n",
    "# Convert 'Date' column to datetime format\n",
    "data['date'] = pd.to_datetime(data['date'], format='%d-%m-%Y %H:%M', errors='coerce')\n",
    "\n",
    "\n",
    "# Set 'Date' column as index\n",
    "data.set_index('date', inplace=True)\n",
    "print(data.head())  # Print the first few rows of the DataFrame\n",
    "print(data.columns)  # Print the column names\n",
    "\n",
    "\n"
   ]
  },
  {
   "cell_type": "code",
   "execution_count": null,
   "metadata": {},
   "outputs": [],
   "source": [
    "# Preprocessing: Split features and target variable\n",
    "X = data[['Soil Moisture Resistance (Ohm)','Ambient Temperature (deg. C)','Atmospheric Humidity (%)']]\n",
    "y = data['DC Water pump Status']\n",
    "\n",
    "# Split the data into training and testing sets (80% training, 20% testing)\n",
    "X_train, X_test, y_train, y_test = train_test_split(X, y, test_size=0.2, random_state=100)"
   ]
  },
  {
   "cell_type": "code",
   "execution_count": null,
   "metadata": {},
   "outputs": [
    {
     "name": "stdout",
     "output_type": "stream",
     "text": [
      "WARNING:tensorflow:From C:\\Users\\user\\AppData\\Roaming\\Python\\Python311\\site-packages\\keras\\src\\backend.py:873: The name tf.get_default_graph is deprecated. Please use tf.compat.v1.get_default_graph instead.\n",
      "\n",
      "WARNING:tensorflow:From C:\\Users\\user\\AppData\\Roaming\\Python\\Python311\\site-packages\\keras\\src\\optimizers\\__init__.py:309: The name tf.train.Optimizer is deprecated. Please use tf.compat.v1.train.Optimizer instead.\n",
      "\n",
      "Epoch 1/50\n",
      "WARNING:tensorflow:From C:\\Users\\user\\AppData\\Roaming\\Python\\Python311\\site-packages\\keras\\src\\utils\\tf_utils.py:492: The name tf.ragged.RaggedTensorValue is deprecated. Please use tf.compat.v1.ragged.RaggedTensorValue instead.\n",
      "\n",
      "WARNING:tensorflow:From C:\\Users\\user\\AppData\\Roaming\\Python\\Python311\\site-packages\\keras\\src\\engine\\base_layer_utils.py:384: The name tf.executing_eagerly_outside_functions is deprecated. Please use tf.compat.v1.executing_eagerly_outside_functions instead.\n",
      "\n",
      "469/469 [==============================] - 2s 2ms/step - loss: 0.5985 - accuracy: 0.6430 - val_loss: 0.5575 - val_accuracy: 0.7001\n",
      "Epoch 2/50\n",
      "469/469 [==============================] - 1s 1ms/step - loss: 0.5308 - accuracy: 0.7679 - val_loss: 0.5095 - val_accuracy: 0.8260\n",
      "Epoch 3/50\n",
      "469/469 [==============================] - 1s 1ms/step - loss: 0.4889 - accuracy: 0.8645 - val_loss: 0.4771 - val_accuracy: 0.9061\n",
      "Epoch 4/50\n",
      "469/469 [==============================] - 1s 2ms/step - loss: 0.4586 - accuracy: 0.9306 - val_loss: 0.4513 - val_accuracy: 0.9541\n",
      "Epoch 5/50\n",
      "469/469 [==============================] - 1s 2ms/step - loss: 0.4338 - accuracy: 0.9584 - val_loss: 0.4290 - val_accuracy: 0.9530\n",
      "Epoch 6/50\n",
      "469/469 [==============================] - 1s 2ms/step - loss: 0.4123 - accuracy: 0.9498 - val_loss: 0.4093 - val_accuracy: 0.9456\n",
      "Epoch 7/50\n",
      "469/469 [==============================] - 1s 2ms/step - loss: 0.3930 - accuracy: 0.9525 - val_loss: 0.3913 - val_accuracy: 0.9434\n",
      "Epoch 8/50\n",
      "469/469 [==============================] - 1s 2ms/step - loss: 0.3757 - accuracy: 0.9520 - val_loss: 0.3750 - val_accuracy: 0.9434\n",
      "Epoch 9/50\n",
      "469/469 [==============================] - 1s 1ms/step - loss: 0.3601 - accuracy: 0.9474 - val_loss: 0.3605 - val_accuracy: 0.9424\n",
      "Epoch 10/50\n",
      "469/469 [==============================] - 1s 1ms/step - loss: 0.3459 - accuracy: 0.9474 - val_loss: 0.3472 - val_accuracy: 0.9424\n",
      "Epoch 11/50\n",
      "469/469 [==============================] - 1s 1ms/step - loss: 0.3329 - accuracy: 0.9472 - val_loss: 0.3351 - val_accuracy: 0.9424\n",
      "Epoch 12/50\n",
      "469/469 [==============================] - 1s 2ms/step - loss: 0.3210 - accuracy: 0.9480 - val_loss: 0.3239 - val_accuracy: 0.9424\n",
      "Epoch 13/50\n",
      "469/469 [==============================] - 1s 1ms/step - loss: 0.3101 - accuracy: 0.9461 - val_loss: 0.3136 - val_accuracy: 0.9424\n",
      "Epoch 14/50\n",
      "469/469 [==============================] - 1s 1ms/step - loss: 0.3001 - accuracy: 0.9474 - val_loss: 0.3042 - val_accuracy: 0.9424\n",
      "Epoch 15/50\n",
      "469/469 [==============================] - 1s 1ms/step - loss: 0.2909 - accuracy: 0.9472 - val_loss: 0.2956 - val_accuracy: 0.9413\n",
      "Epoch 16/50\n",
      "469/469 [==============================] - 1s 1ms/step - loss: 0.2824 - accuracy: 0.9453 - val_loss: 0.2875 - val_accuracy: 0.9424\n",
      "Epoch 17/50\n",
      "469/469 [==============================] - 1s 1ms/step - loss: 0.2746 - accuracy: 0.9458 - val_loss: 0.2801 - val_accuracy: 0.9424\n",
      "Epoch 18/50\n",
      "469/469 [==============================] - 1s 1ms/step - loss: 0.2674 - accuracy: 0.9474 - val_loss: 0.2735 - val_accuracy: 0.9424\n",
      "Epoch 19/50\n",
      "469/469 [==============================] - 1s 1ms/step - loss: 0.2608 - accuracy: 0.9474 - val_loss: 0.2671 - val_accuracy: 0.9424\n",
      "Epoch 20/50\n",
      "469/469 [==============================] - 1s 1ms/step - loss: 0.2545 - accuracy: 0.9469 - val_loss: 0.2613 - val_accuracy: 0.9424\n",
      "Epoch 21/50\n",
      "469/469 [==============================] - 1s 1ms/step - loss: 0.2488 - accuracy: 0.9474 - val_loss: 0.2558 - val_accuracy: 0.9424\n",
      "Epoch 22/50\n",
      "469/469 [==============================] - 1s 1ms/step - loss: 0.2434 - accuracy: 0.9474 - val_loss: 0.2508 - val_accuracy: 0.9424\n",
      "Epoch 23/50\n",
      "469/469 [==============================] - 1s 1ms/step - loss: 0.2383 - accuracy: 0.9477 - val_loss: 0.2460 - val_accuracy: 0.9424\n",
      "Epoch 24/50\n",
      "469/469 [==============================] - 1s 1ms/step - loss: 0.2335 - accuracy: 0.9480 - val_loss: 0.2414 - val_accuracy: 0.9424\n",
      "Epoch 25/50\n",
      "469/469 [==============================] - 1s 1ms/step - loss: 0.2291 - accuracy: 0.9477 - val_loss: 0.2373 - val_accuracy: 0.9424\n",
      "Epoch 26/50\n",
      "469/469 [==============================] - 1s 1ms/step - loss: 0.2250 - accuracy: 0.9477 - val_loss: 0.2335 - val_accuracy: 0.9424\n",
      "Epoch 27/50\n",
      "469/469 [==============================] - 1s 1ms/step - loss: 0.2210 - accuracy: 0.9477 - val_loss: 0.2297 - val_accuracy: 0.9424\n",
      "Epoch 28/50\n",
      "469/469 [==============================] - 1s 1ms/step - loss: 0.2174 - accuracy: 0.9482 - val_loss: 0.2262 - val_accuracy: 0.9424\n",
      "Epoch 29/50\n",
      "469/469 [==============================] - 1s 1ms/step - loss: 0.2140 - accuracy: 0.9480 - val_loss: 0.2231 - val_accuracy: 0.9424\n",
      "Epoch 30/50\n",
      "469/469 [==============================] - 1s 1ms/step - loss: 0.2108 - accuracy: 0.9480 - val_loss: 0.2200 - val_accuracy: 0.9424\n",
      "Epoch 31/50\n",
      "469/469 [==============================] - 1s 1ms/step - loss: 0.2077 - accuracy: 0.9480 - val_loss: 0.2171 - val_accuracy: 0.9424\n",
      "Epoch 32/50\n",
      "469/469 [==============================] - 1s 1ms/step - loss: 0.2048 - accuracy: 0.9498 - val_loss: 0.2142 - val_accuracy: 0.9424\n",
      "Epoch 33/50\n",
      "469/469 [==============================] - 1s 1ms/step - loss: 0.2020 - accuracy: 0.9504 - val_loss: 0.2115 - val_accuracy: 0.9424\n",
      "Epoch 34/50\n",
      "469/469 [==============================] - 1s 1ms/step - loss: 0.1994 - accuracy: 0.9485 - val_loss: 0.2091 - val_accuracy: 0.9424\n",
      "Epoch 35/50\n",
      "469/469 [==============================] - 1s 1ms/step - loss: 0.1969 - accuracy: 0.9485 - val_loss: 0.2068 - val_accuracy: 0.9424\n",
      "Epoch 36/50\n",
      "469/469 [==============================] - 1s 1ms/step - loss: 0.1946 - accuracy: 0.9501 - val_loss: 0.2046 - val_accuracy: 0.9445\n",
      "Epoch 37/50\n",
      "469/469 [==============================] - 1s 1ms/step - loss: 0.1923 - accuracy: 0.9514 - val_loss: 0.2024 - val_accuracy: 0.9434\n",
      "Epoch 38/50\n",
      "469/469 [==============================] - 1s 2ms/step - loss: 0.1902 - accuracy: 0.9501 - val_loss: 0.2004 - val_accuracy: 0.9434\n",
      "Epoch 39/50\n",
      "469/469 [==============================] - 1s 1ms/step - loss: 0.1881 - accuracy: 0.9514 - val_loss: 0.1983 - val_accuracy: 0.9434\n",
      "Epoch 40/50\n",
      "469/469 [==============================] - 1s 1ms/step - loss: 0.1861 - accuracy: 0.9506 - val_loss: 0.1964 - val_accuracy: 0.9434\n",
      "Epoch 41/50\n",
      "469/469 [==============================] - 1s 1ms/step - loss: 0.1842 - accuracy: 0.9496 - val_loss: 0.1947 - val_accuracy: 0.9456\n",
      "Epoch 42/50\n",
      "469/469 [==============================] - 1s 1ms/step - loss: 0.1824 - accuracy: 0.9517 - val_loss: 0.1929 - val_accuracy: 0.9466\n",
      "Epoch 43/50\n",
      "469/469 [==============================] - 1s 1ms/step - loss: 0.1807 - accuracy: 0.9520 - val_loss: 0.1912 - val_accuracy: 0.9466\n",
      "Epoch 44/50\n",
      "469/469 [==============================] - 1s 1ms/step - loss: 0.1790 - accuracy: 0.9549 - val_loss: 0.1896 - val_accuracy: 0.9466\n",
      "Epoch 45/50\n",
      "469/469 [==============================] - 1s 1ms/step - loss: 0.1774 - accuracy: 0.9528 - val_loss: 0.1881 - val_accuracy: 0.9466\n",
      "Epoch 46/50\n",
      "469/469 [==============================] - 1s 1ms/step - loss: 0.1759 - accuracy: 0.9536 - val_loss: 0.1866 - val_accuracy: 0.9477\n",
      "Epoch 47/50\n",
      "469/469 [==============================] - 1s 1ms/step - loss: 0.1743 - accuracy: 0.9520 - val_loss: 0.1852 - val_accuracy: 0.9488\n",
      "Epoch 48/50\n",
      "469/469 [==============================] - 1s 1ms/step - loss: 0.1729 - accuracy: 0.9557 - val_loss: 0.1837 - val_accuracy: 0.9488\n",
      "Epoch 49/50\n",
      "469/469 [==============================] - 1s 1ms/step - loss: 0.1715 - accuracy: 0.9544 - val_loss: 0.1824 - val_accuracy: 0.9477\n",
      "Epoch 50/50\n",
      "469/469 [==============================] - 1s 1ms/step - loss: 0.1702 - accuracy: 0.9544 - val_loss: 0.1811 - val_accuracy: 0.9488\n",
      "37/37 [==============================] - 0s 1ms/step - loss: 0.1628 - accuracy: 0.9582\n",
      "Test Loss: 0.1627696305513382\n",
      "Test Accuracy: 0.9581910967826843\n"
     ]
    }
   ],
   "source": [
    "# Normalize the features (optional but recommended)\n",
    "X_train_normalized = (X_train - X_train.mean()) / X_train.std()\n",
    "X_test_normalized = (X_test - X_train.mean()) / X_train.std()\n",
    "# Define the logistic regression model\n",
    "model = Sequential([\n",
    "    Dense(1, input_shape=(3,), activation='sigmoid')  # 3 input features (Soil_Moisture, Temperature, Humidity)\n",
    "])\n",
    "\n",
    "# Compile the model\n",
    "model.compile(optimizer='adam', loss='binary_crossentropy', metrics=['accuracy'])\n",
    "\n",
    "# Train the model\n",
    "history = model.fit(X_train_normalized, y_train, epochs=50, batch_size=8, validation_split=0.2)\n",
    "\n",
    "# Evaluate the model on the test set\n",
    "loss, accuracy = model.evaluate(X_test_normalized, y_test)\n",
    "print(\"Test Loss:\", loss)\n",
    "print(\"Test Accuracy:\", accuracy)\n"
   ]
  },
  {
   "cell_type": "markdown",
   "metadata": {},
   "source": []
  },
  {
   "cell_type": "code",
   "execution_count": null,
   "metadata": {},
   "outputs": [
    {
     "name": "stdout",
     "output_type": "stream",
     "text": [
      "INFO:tensorflow:Assets written to: C:\\Users\\user\\AppData\\Local\\Temp\\tmp9tlvxzo6\\assets\n"
     ]
    },
    {
     "name": "stderr",
     "output_type": "stream",
     "text": [
      "INFO:tensorflow:Assets written to: C:\\Users\\user\\AppData\\Local\\Temp\\tmp9tlvxzo6\\assets\n"
     ]
    },
    {
     "name": "stdout",
     "output_type": "stream",
     "text": [
      "Model is 1264 bytes\n"
     ]
    }
   ],
   "source": [
    "\n",
    "\n",
    "# Convert the trained model to TensorFlow Lite format\n",
    "converter = tf.lite.TFLiteConverter.from_keras_model(model)\n",
    "tflite_model = converter.convert()\n",
    "\n",
    "# Save the TensorFlow Lite model to a file\n",
    "with open('modeltafa.tflite', 'wb') as f:\n",
    "    f.write(tflite_model)\n",
    "    import os\n",
    "basic_model_size = os.path.getsize(\"modeltafa.tflite\")\n",
    "print(\"Model is %d bytes\" % basic_model_size)"
   ]
  }
 ],
 "metadata": {
  "kernelspec": {
   "display_name": "Python 3",
   "language": "python",
   "name": "python3"
  },
  "language_info": {
   "codemirror_mode": {
    "name": "ipython",
    "version": 3
   },
   "file_extension": ".py",
   "mimetype": "text/x-python",
   "name": "python",
   "nbconvert_exporter": "python",
   "pygments_lexer": "ipython3",
   "version": "3.11.4"
  }
 },
 "nbformat": 4,
 "nbformat_minor": 2
}
